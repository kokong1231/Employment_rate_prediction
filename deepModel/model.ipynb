{
 "cells": [
  {
   "cell_type": "code",
   "execution_count": null,
   "metadata": {},
   "outputs": [
    {
     "name": "stderr",
     "output_type": "stream",
     "text": [
      "Using TensorFlow backend.\n"
     ]
    },
    {
     "name": "stdout",
     "output_type": "stream",
     "text": [
      "Epoch 1/300\n"
     ]
    }
   ],
   "source": [
    "# -*- coding: utf-8 -*-\n",
    "\n",
    "from keras.models import Sequential\n",
    "from keras.layers import Dense\n",
    "\n",
    "import pandas as pd\n",
    "\n",
    "import numpy as np\n",
    "import tensorflow as tf\n",
    "\n",
    "\n",
    "seed = 0\n",
    "np.random.seed(seed)\n",
    "tf.random.set_seed(3)            # tensorflow에서 초기값은 주로 랜덤값을 사용하고 결과값을 고정하기 위해 seed를 고정\n",
    "\n",
    "Data_set = pd.read_csv(\"../Dataset/optmiz_data.csv\", encoding='utf-8')    # 취업 관련 항목 데이터 모음\n",
    "# New_set = pd.read_csv(\"../Dataset/newdata.csv\", encoding='utf-8')         # 합격 여부를 알고 싶은 데이터\n",
    "data_column = Data_set.columns\n",
    "\n",
    "X = Data_set[data_column[1:-1]]        # 인덱스를 제외한 속성부분을 지정\n",
    "Y = Data_set[data_column[-1]]          # 합격여부를 가르키는 클래스 부분\n",
    "# new_data = New_set[:,1:-1]  # 합격 여부를 알고 싶은 데이터의 속성\n",
    "\n",
    "model = Sequential()        # 모델 구성\n",
    "model.add(Dense(50, input_dim=10, activation='relu'))    # 학습 항목은 총 10개 합격과 불합격 여부를 확인해야 하기 때문에\n",
    "model.add(Dense(40, activation='relu'))\n",
    "model.add(Dense(30, activation='relu'))\n",
    "model.add(Dense(15, activation='relu'))\n",
    "model.add(Dense(1, activation='sigmoid'))                   # sigmoid를 사용한 학습\n",
    "\n",
    "model.compile(loss='mean_squared_error', optimizer='adam', metrics=['accuracy'])    # 모델 엮기\n",
    "hist = model.fit(X, Y, epochs=300, batch_size=200)   # 모델 학습 약 250~300번 정도에서 정확도 변화가 줄어들기 때문에 300으로 지정\n",
    "\n",
    "print(\"\\n Accuracy: %.2f%%\" % (model.evaluate(X, Y, batch_size=200)[1]))    # 모델 평가\n",
    "\n",
    "# hat = model.predict(New_set)        # 학습이 완료된 모델 사용\n"
   ]
  }
 ],
 "metadata": {
  "kernelspec": {
   "display_name": "Python 3",
   "language": "python",
   "name": "python3"
  },
  "language_info": {
   "codemirror_mode": {
    "name": "ipython",
    "version": 3
   },
   "file_extension": ".py",
   "mimetype": "text/x-python",
   "name": "python",
   "nbconvert_exporter": "python",
   "pygments_lexer": "ipython3",
   "version": "3.7.9"
  }
 },
 "nbformat": 4,
 "nbformat_minor": 4
}
